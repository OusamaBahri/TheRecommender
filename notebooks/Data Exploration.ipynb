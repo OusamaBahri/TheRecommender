{
 "cells": [
  {
   "cell_type": "code",
   "execution_count": 2,
   "id": "76d2c3ce",
   "metadata": {},
   "outputs": [],
   "source": [
    "import pandas as pd"
   ]
  },
  {
   "cell_type": "code",
   "execution_count": 7,
   "id": "5f60c795",
   "metadata": {},
   "outputs": [],
   "source": [
    "coursera = pd.read_csv('../data/Coursera.csv')\n",
    "edx = pd.read_csv('../data/EdX.csv')\n",
    "udacity = pd.read_csv('../data/Udacity.csv')\n",
    "udemy = pd.read_csv('../data/udemy_courses.csv')"
   ]
  },
  {
   "cell_type": "code",
   "execution_count": 10,
   "id": "82ab1bcd",
   "metadata": {},
   "outputs": [
    {
     "name": "stdout",
     "output_type": "stream",
     "text": [
      "edx dataset contains : 720 rows and 6 columns \n",
      "\n",
      "udacity dataset contains : 263 rows and 6 columns \n",
      "\n",
      "coursera dataset contains : 3522 rows and 7 columns \n",
      "\n",
      "udemy dataset contains : 3683 rows and 12 columns \n",
      "\n"
     ]
    }
   ],
   "source": [
    "print(\"edx dataset contains : {} rows and {} columns \\n\".format(edx.shape[0], edx.shape[1]))\n",
    "print(\"udacity dataset contains : {} rows and {} columns \\n\".format(udacity.shape[0], udacity.shape[1]))\n",
    "print(\"coursera dataset contains : {} rows and {} columns \\n\".format(coursera.shape[0], coursera.shape[1]))\n",
    "print(\"udemy dataset contains : {} rows and {} columns \\n\".format(udemy.shape[0], udemy.shape[1]))"
   ]
  },
  {
   "cell_type": "code",
   "execution_count": 25,
   "id": "66633801",
   "metadata": {},
   "outputs": [
    {
     "name": "stdout",
     "output_type": "stream",
     "text": [
      "Coursera columns : Index(['Course Name', 'University', 'Difficulty Level', 'Course Rating',\n",
      "       'Course URL', 'Course Description', 'Skills'],\n",
      "      dtype='object') \n",
      "\n",
      "EdX columns : Index(['Name', 'University', 'Difficulty Level', 'Link', 'About',\n",
      "       'Course Description'],\n",
      "      dtype='object') \n",
      "\n",
      "Udacity columns : Index(['Name', 'School', 'Difficulty Level', 'Rating', 'Link', 'About'], dtype='object') \n",
      "\n",
      "Udemy columns : Index(['course_id', 'course_title', 'url', 'is_paid', 'price',\n",
      "       'num_subscribers', 'num_reviews', 'num_lectures', 'level',\n",
      "       'content_duration', 'published_timestamp', 'subject'],\n",
      "      dtype='object') \n",
      "\n"
     ]
    }
   ],
   "source": [
    "d = {\"Coursera\":coursera, \"EdX\":edx, \"Udacity\":udacity, \"Udemy\":udemy}\n",
    "for key , value in d.items():\n",
    "    print(f\"{key} columns : {value.columns} \\n\")\n"
   ]
  },
  {
   "cell_type": "markdown",
   "id": "76fd5df0",
   "metadata": {},
   "source": [
    "# Let's start working on Udemy dataset"
   ]
  },
  {
   "cell_type": "code",
   "execution_count": null,
   "id": "b7f49c16",
   "metadata": {},
   "outputs": [],
   "source": []
  }
 ],
 "metadata": {
  "kernelspec": {
   "display_name": "Python 3",
   "language": "python",
   "name": "python3"
  },
  "language_info": {
   "codemirror_mode": {
    "name": "ipython",
    "version": 3
   },
   "file_extension": ".py",
   "mimetype": "text/x-python",
   "name": "python",
   "nbconvert_exporter": "python",
   "pygments_lexer": "ipython3",
   "version": "3.9.12"
  }
 },
 "nbformat": 4,
 "nbformat_minor": 5
}
